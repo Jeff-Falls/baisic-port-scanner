{
  "nbformat": 4,
  "nbformat_minor": 0,
  "metadata": {
    "colab": {
      "provenance": [],
      "authorship_tag": "ABX9TyOw7Anl+J9M68uLOpwIaazS",
      "include_colab_link": true
    },
    "kernelspec": {
      "name": "python3",
      "display_name": "Python 3"
    },
    "language_info": {
      "name": "python"
    }
  },
  "cells": [
    {
      "cell_type": "markdown",
      "metadata": {
        "id": "view-in-github",
        "colab_type": "text"
      },
      "source": [
        "<a href=\"https://colab.research.google.com/github/Jeff-Falls/baisic-port-scanner/blob/main/baisic_port_scanner.ipynb\" target=\"_parent\"><img src=\"https://colab.research.google.com/assets/colab-badge.svg\" alt=\"Open In Colab\"/></a>"
      ]
    },
    {
      "cell_type": "code",
      "source": [
        "\n",
        "import socket\n",
        "\n",
        "# Ask the user for the target IP address\n",
        "target = input(\"Enter the IP address to scan: \")\n",
        "\n",
        "# Define the range of ports to scan\n",
        "start_port = 1\n",
        "end_port = 1024\n",
        "\n",
        "# Loop through each port in the range\n",
        "for port in range(start_port, end_port + 1):\n",
        "    # Establish what kind of address and communication protocol to use\n",
        "    # (from copilot) Create a socket using IPv4 (AF_INET) and TCP (SOCK_STREAM)\n",
        "    s = socket.socket(socket.AF_INET, socket.SOCK_STREAM)\n",
        "    s.settimeout(0.5)  # Set timeout to half a second\n",
        "    result = s.connect_ex((target, port))\n",
        "    if result == 0:\n",
        "        print(f\"Port {port} is open\")\n",
        "    s.close()\n"
      ],
      "metadata": {
        "id": "TxxWrsIbr0Gu"
      },
      "execution_count": null,
      "outputs": []
    }
  ]
}