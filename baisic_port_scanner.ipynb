{
  "nbformat": 4,
  "nbformat_minor": 0,
  "metadata": {
    "colab": {
      "provenance": [],
      "authorship_tag": "ABX9TyP415As6JgNhqzFvG14dMXM"
    },
    "kernelspec": {
      "name": "python3",
      "display_name": "Python 3"
    },
    "language_info": {
      "name": "python"
    }
  },
  "cells": [
    {
      "cell_type": "code",
      "source": [
        "import socket"
      ],
      "metadata": {
        "id": "iFcyACcuoG3r"
      },
      "execution_count": 19,
      "outputs": []
    },
    {
      "cell_type": "code",
      "source": [
        "#Ask the use for the target IP address\n",
        "target = input(\"Enter the IP address to scan: \")"
      ],
      "metadata": {
        "colab": {
          "base_uri": "https://localhost:8080/"
        },
        "id": "_noCg5B7fIhT",
        "outputId": "5dbece4c-bb5e-4bd9-9294-bb3137a7f2fc"
      },
      "execution_count": 14,
      "outputs": [
        {
          "name": "stdout",
          "output_type": "stream",
          "text": [
            "Enter the IP address to scan: scanme.nmap.org\n"
          ]
        }
      ]
    },
    {
      "cell_type": "code",
      "source": [
        "#Define the range of ports to scan\n",
        "start_port = 1\n",
        "end_port = 1024"
      ],
      "metadata": {
        "id": "dBIkfPFDgmtM"
      },
      "execution_count": 13,
      "outputs": []
    },
    {
      "cell_type": "code",
      "source": [
        "for port in range(start_port, end_port + 1):\n",
        "    #Establish what kind of address and communication protocol to use\n",
        "    # (from copilot) Create a socket using IPv4(AF_INET) and TCP(SOCK_STREAM)\n",
        "    s = socket.socket(socket.AF_INET, socket.SOCK_STREAM) #\n",
        "    s.settimeout(.5) #set timeout to half a second\n",
        "    result = s.connect_ex((target, port))\n",
        "    if result == 0:\n",
        "        print(f\"Port {port} is open\")\n",
        "    s.close()"
      ],
      "metadata": {
        "colab": {
          "base_uri": "https://localhost:8080/"
        },
        "id": "dpH3ptzog3Gq",
        "outputId": "5a0bfd84-d135-4a25-f6dc-41842204b2f8"
      },
      "execution_count": 21,
      "outputs": [
        {
          "output_type": "stream",
          "name": "stdout",
          "text": [
            "Port 22 is open\n",
            "Port 80 is open\n"
          ]
        }
      ]
    },
    {
      "cell_type": "code",
      "source": [],
      "metadata": {
        "id": "PoLClC9ajmDj"
      },
      "execution_count": null,
      "outputs": []
    }
  ]
}